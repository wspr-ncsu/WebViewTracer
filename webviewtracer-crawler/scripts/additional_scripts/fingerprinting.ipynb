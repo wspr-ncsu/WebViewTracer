{
 "cells": [
  {
   "cell_type": "code",
   "execution_count": null,
   "id": "900511b4",
   "metadata": {},
   "outputs": [],
   "source": [
    "import pandas as pd\n",
    "import json\n",
    "import matplotlib.pyplot as plt\n",
    "whitelist = json.load(open(\"../results/app_names_exfil.json\"))\n",
    "wt = whitelist.to_list()"
   ]
  },
  {
   "cell_type": "code",
   "execution_count": null,
   "id": "718af327",
   "metadata": {},
   "outputs": [],
   "source": [
    "import warnings\n",
    "import psycopg2\n",
    "import pandas as pd\n",
    "import matplotlib.pyplot as plt\n",
    "import numpy as np\n",
    "import json\n",
    "from tabulate import tabulate\n",
    "\n",
    "warnings.filterwarnings('ignore')\n",
    "conn = psycopg2.connect(database=\"vv8_backend\",\n",
    "                        host=\"0.0.0.0\",\n",
    "                        user=\"vv8\",\n",
    "                        password=\"vv8\",\n",
    "                        port=\"5439\")\n",
    "\n",
    "def query(statement: str):\n",
    "    return pd.read_sql_query(statement, con=conn)"
   ]
  },
  {
   "cell_type": "code",
   "execution_count": null,
   "id": "bfa79967",
   "metadata": {},
   "outputs": [],
   "source": [
    "wt = list(set(wt))"
   ]
  },
  {
   "cell_type": "code",
   "execution_count": null,
   "id": "a0aa3be3",
   "metadata": {},
   "outputs": [],
   "source": [
    "from handler import run_single_pass\n",
    "import matplotlib.pyplot as plt\n",
    "import numpy as np\n",
    "import pandas as pd\n",
    "\n",
    "# Run the processing\n",
    "app_unique_api_counts_exfill = run_single_pass(wt)\n",
    "\n",
    "# Convert the data to a sorted list of unique API counts (length of each set)\n",
    "unique_api_counts_exfill = sorted(len(v) for v in app_unique_api_counts_exfill.values())"
   ]
  },
  {
   "cell_type": "code",
   "execution_count": null,
   "id": "da1ebd26",
   "metadata": {},
   "outputs": [],
   "source": [
    "import pandas as pd\n",
    "import matplotlib.pyplot as plt\n",
    "whitelist = json.load(open(\"../results/app_names_exfil.json\"))\n",
    "wt_exfil = whitelist['Package Name'].to_list()"
   ]
  },
  {
   "cell_type": "code",
   "execution_count": null,
   "id": "11aa67b3",
   "metadata": {},
   "outputs": [],
   "source": [
    "wvt2 = list(set(query(\"\"\"SELECT DISTINCT app_name FROM injection_log\"\"\")['app_name'].to_list()) - set(wt_exfil) - set(wt)) "
   ]
  },
  {
   "cell_type": "code",
   "execution_count": null,
   "id": "63ea021a",
   "metadata": {},
   "outputs": [],
   "source": [
    "from handler import run_single_pass\n",
    "import matplotlib.pyplot as plt\n",
    "import numpy as np\n",
    "import pandas as pd\n",
    "\n",
    "# Run the processing\n",
    "app_unique_api_counts_bad = run_single_pass(wvt2)\n",
    "\n",
    "# Convert the data to a sorted list of unique API counts (length of each set)\n",
    "unique_api_counts_bad = sorted(len(v) for v in app_unique_api_counts_bad.values())"
   ]
  },
  {
   "cell_type": "code",
   "execution_count": null,
   "id": "212650a2",
   "metadata": {},
   "outputs": [],
   "source": [
    "import numpy as np\n",
    "import matplotlib.pyplot as plt\n",
    "\n",
    "# Compute CDFs\n",
    "def compute_cdf(data):\n",
    "    data = np.array(sorted(data))\n",
    "    cdf = 1.0 - np.arange(1, len(data) + 1) / len(data)\n",
    "    return data, cdf * 100  # percentage\n",
    "\n",
    "x_good, y_good = compute_cdf(unique_api_counts_exfill)\n",
    "x_bad, y_bad = compute_cdf(unique_api_counts_bad)\n",
    "\n",
    "# Plot\n",
    "plt.figure(figsize=(9, 6))\n",
    "plt.step(x_good, y_good, where='post', label='Good', linewidth=4, color='orange')\n",
    "plt.step(x_bad, y_bad, where='post', label='Bad', linewidth=4)\n",
    "ax = plt.gca()\n",
    "ax.set_xlim(0, 150)\n",
    "plt.xlabel(\"Number of Fingerprinting APIs\", fontsize=13)\n",
    "plt.ylabel(\"Percentage of Apps (%)\", fontsize=13)\n",
    "plt.grid(True)\n",
    "plt.xticks(np.arange(0,150+ 10, 10), fontsize=13)\n",
    "plt.yticks(np.arange(0, 100 + 10, 10), fontsize=13)\n",
    "#plt.legend()\n",
    "plt.tight_layout()\n",
    "plt.show()"
   ]
  }
 ],
 "metadata": {
  "language_info": {
   "name": "python"
  }
 },
 "nbformat": 4,
 "nbformat_minor": 5
}
